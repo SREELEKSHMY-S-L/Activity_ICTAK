{
 "cells": [
  {
   "cell_type": "markdown",
   "metadata": {},
   "source": [
    "## Animal Quiz\n",
    "#### Author: Sreelekshmy S L"
   ]
  },
  {
   "cell_type": "code",
   "execution_count": 2,
   "metadata": {},
   "outputs": [
    {
     "name": "stdout",
     "output_type": "stream",
     "text": [
      "Guess the Animal:\n",
      "\n",
      "Total number of questions = 8. Number of chances for each question = 3.\n",
      "\n",
      "Which is the largest mammal in the ocean? Blue Whale\n",
      "Correct answer.\n",
      "What is a female deer called? Doe\n",
      "Correct answer.\n",
      "What is a baby sheep called? lamp\n",
      "Sorry, wrong answer, try again: lamb\n",
      "Correct answer.\n",
      "What bird is the symbol of peace? dove\n",
      "Correct answer.\n",
      "What is a group of lions called? Pride\n",
      "Correct answer.\n",
      "Which is the largest land mammal? Elephant\n",
      "Correct answer.\n",
      "Which is the flying mammal? bat\n",
      "Correct answer.\n",
      "Where is a shrimps heart located? heart\n",
      "Sorry, wrong answer, try again: chest\n",
      "Sorry, wrong answer, try again: stomach\n",
      "The answer is: head\n",
      "Thank you for the participation.\n",
      "Your total score is: 7\n"
     ]
    }
   ],
   "source": [
    "quest = {'Which is the largest mammal in the ocean? ':'blue whale',\n",
    "         'What is a female deer called? ':'doe'\n",
    "         ,'What is a baby sheep called? ':'lamb'\n",
    "         ,'What bird is the symbol of peace? ':'dove',\n",
    "         'What is a group of lions called? ':'pride',\n",
    "         'Which is the largest land mammal? ':'elephant',\n",
    "         'Which is the flying mammal? ':'bat'\n",
    "        ,'Where is a shrimps heart located? ':'head'}\n",
    "\n",
    "print('Guess the Animal:\\n')\n",
    "print('Total number of questions = 8. Number of chances for each question = 3.\\n')\n",
    "\n",
    "\n",
    "    \n",
    "def animal(questions):\n",
    "    score=0\n",
    "      \n",
    "    for k in quest:\n",
    "        chances=3\n",
    "        \n",
    "        ans=str(input(k).lower())\n",
    "        if ans == quest[k]:\n",
    "            score+=1\n",
    "            print('Correct answer.')\n",
    "        else:\n",
    "            \n",
    "            while chances>0 and chances<=3:\n",
    "                \n",
    "                chances-=1\n",
    "                if chances!=0:\n",
    "                    ans=input('Sorry, wrong answer, try again: ').lower()\n",
    "                    if ans == quest[k]:\n",
    "                        score+=1\n",
    "                        print('Correct answer.')\n",
    "                        break\n",
    "                        \n",
    "                else:\n",
    "                    print('The answer is:',quest[k])\n",
    "    print('Thank you for the participation.')\n",
    "    print('Your total score is:',score)\n",
    "    \n",
    "animal(quest)            \n",
    "            \n",
    "        \n",
    "    \n",
    "\n"
   ]
  },
  {
   "cell_type": "code",
   "execution_count": null,
   "metadata": {},
   "outputs": [],
   "source": []
  },
  {
   "cell_type": "code",
   "execution_count": null,
   "metadata": {},
   "outputs": [],
   "source": []
  }
 ],
 "metadata": {
  "kernelspec": {
   "display_name": "Python 3",
   "language": "python",
   "name": "python3"
  },
  "language_info": {
   "codemirror_mode": {
    "name": "ipython",
    "version": 3
   },
   "file_extension": ".py",
   "mimetype": "text/x-python",
   "name": "python",
   "nbconvert_exporter": "python",
   "pygments_lexer": "ipython3",
   "version": "3.8.5"
  }
 },
 "nbformat": 4,
 "nbformat_minor": 4
}
