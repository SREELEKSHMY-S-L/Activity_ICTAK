{
 "cells": [
  {
   "cell_type": "code",
   "execution_count": 12,
   "metadata": {},
   "outputs": [
    {
     "name": "stdout",
     "output_type": "stream",
     "text": [
      "Strong password generated: \n",
      "happyforest40>\n"
     ]
    }
   ],
   "source": [
    "import random\n",
    "\n",
    "adjective = ['strong','bold','confident','healthy','happy','moody','crazy','beautiful','creepy','loyal','handsome']\n",
    "noun = ['earth','emrald','genZ','kpop','star','world','bts','sign','wood','forest','dog','cat']\n",
    "symbol = ['!','#','$','%','@','^','&','*',',','.','<','>']\n",
    "adj = random.choice(adjective)\n",
    "nou = random.choice(noun)\n",
    "sym = random.choice(symbol)\n",
    "num = random.randint(0,50)\n",
    "print('Strong password generated: ')\n",
    "\n",
    "print(str(adj)+str(nou)+str(num)+str(sym))\n"
   ]
  },
  {
   "cell_type": "code",
   "execution_count": null,
   "metadata": {},
   "outputs": [],
   "source": []
  }
 ],
 "metadata": {
  "kernelspec": {
   "display_name": "Python 3",
   "language": "python",
   "name": "python3"
  },
  "language_info": {
   "codemirror_mode": {
    "name": "ipython",
    "version": 3
   },
   "file_extension": ".py",
   "mimetype": "text/x-python",
   "name": "python",
   "nbconvert_exporter": "python",
   "pygments_lexer": "ipython3",
   "version": "3.8.5"
  }
 },
 "nbformat": 4,
 "nbformat_minor": 4
}
